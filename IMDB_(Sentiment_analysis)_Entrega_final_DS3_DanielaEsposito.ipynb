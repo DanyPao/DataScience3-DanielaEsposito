{
  "nbformat": 4,
  "nbformat_minor": 0,
  "metadata": {
    "colab": {
      "provenance": [],
      "authorship_tag": "ABX9TyPmEgvZJWuR6HJVtnzIUPSL",
      "include_colab_link": true
    },
    "kernelspec": {
      "name": "python3",
      "display_name": "Python 3"
    },
    "language_info": {
      "name": "python"
    }
  },
  "cells": [
    {
      "cell_type": "markdown",
      "metadata": {
        "id": "view-in-github",
        "colab_type": "text"
      },
      "source": [
        "<a href=\"https://colab.research.google.com/github/DanyPao/DataScience3-DanielaEsposito/blob/main/IMDB_(Sentiment_analysis)_Entrega_final_DS3_DanielaEsposito.ipynb\" target=\"_parent\"><img src=\"https://colab.research.google.com/assets/colab-badge.svg\" alt=\"Open In Colab\"/></a>"
      ]
    },
    {
      "cell_type": "markdown",
      "source": [
        "#IMDB dataset (Sentiment analysis)\n",
        "\n",
        "Con este dataset proveniente de IMDB, voy a realizar un analisis de sentimientos sobre películas.\n",
        "\n",
        "Estos textos tienen oraciones largas, de las cuales, muchas de ellas contienen mas de 200 palabras."
      ],
      "metadata": {
        "id": "WtNC_gXmb6Ih"
      }
    },
    {
      "cell_type": "code",
      "execution_count": null,
      "metadata": {
        "id": "Kc4ueGu_b5f2"
      },
      "outputs": [],
      "source": [
        "import pandas as pd"
      ]
    },
    {
      "cell_type": "code",
      "source": [
        "df="
      ],
      "metadata": {
        "id": "RA3y8DbZiZ7O"
      },
      "execution_count": null,
      "outputs": []
    }
  ]
}